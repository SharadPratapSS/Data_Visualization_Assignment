{
 "cells": [
  {
   "cell_type": "markdown",
   "id": "494b134c",
   "metadata": {},
   "source": [
    "### 21. Train a KNN Classifier on the Iris dataset and print model accuracy"
   ]
  },
  {
   "cell_type": "code",
   "execution_count": null,
   "id": "bd2c33a8",
   "metadata": {},
   "outputs": [],
   "source": [
    "\n",
    "from sklearn.datasets import load_iris\n",
    "from sklearn.model_selection import train_test_split\n",
    "from sklearn.neighbors import KNeighborsClassifier\n",
    "\n",
    "X, y = load_iris(return_X_y=True)\n",
    "X_train, X_test, y_train, y_test = train_test_split(X, y, random_state=42)\n",
    "model = KNeighborsClassifier()\n",
    "model.fit(X_train, y_train)\n",
    "accuracy = model.score(X_test, y_test)\n",
    "print(\"Model accuracy:\", accuracy)\n"
   ]
  },
  {
   "cell_type": "markdown",
   "id": "999192e2",
   "metadata": {},
   "source": [
    "### 22. Train a KNN Regressor on a synthetic dataset and evaluate using Mean Squared Error (MSE)"
   ]
  },
  {
   "cell_type": "code",
   "execution_count": null,
   "id": "0e16f890",
   "metadata": {},
   "outputs": [],
   "source": [
    "\n",
    "from sklearn.datasets import make_regression\n",
    "from sklearn.neighbors import KNeighborsRegressor\n",
    "from sklearn.metrics import mean_squared_error\n",
    "\n",
    "X, y = make_regression(n_samples=100, n_features=2, noise=0.1)\n",
    "X_train, X_test, y_train, y_test = train_test_split(X, y, random_state=42)\n",
    "model = KNeighborsRegressor()\n",
    "model.fit(X_train, y_train)\n",
    "y_pred = model.predict(X_test)\n",
    "mse = mean_squared_error(y_test, y_pred)\n",
    "print(\"Mean Squared Error:\", mse)\n"
   ]
  },
  {
   "cell_type": "markdown",
   "id": "14799556",
   "metadata": {},
   "source": [
    "### 23. Train a KNN Classifier using different distance metrics (Euclidean and Manhattan) and compare accuracy"
   ]
  },
  {
   "cell_type": "code",
   "execution_count": null,
   "id": "a4a76de3",
   "metadata": {},
   "outputs": [],
   "source": [
    "\n",
    "for metric in ['euclidean', 'manhattan']:\n",
    "    model = KNeighborsClassifier(metric=metric)\n",
    "    model.fit(X_train, y_train)\n",
    "    print(f\"{metric} accuracy:\", model.score(X_test, y_test))\n"
   ]
  },
  {
   "cell_type": "markdown",
   "id": "142b096d",
   "metadata": {},
   "source": [
    "### 24. Train a KNN Classifier with different values of K and visualize decision boundaries"
   ]
  },
  {
   "cell_type": "code",
   "execution_count": null,
   "id": "2e72fa19",
   "metadata": {},
   "outputs": [],
   "source": [
    "\n",
    "import matplotlib.pyplot as plt\n",
    "import numpy as np\n",
    "\n",
    "accuracies = []\n",
    "k_values = range(1, 11)\n",
    "for k in k_values:\n",
    "    model = KNeighborsClassifier(n_neighbors=k)\n",
    "    model.fit(X_train, y_train)\n",
    "    accuracies.append(model.score(X_test, y_test))\n",
    "\n",
    "plt.plot(k_values, accuracies, marker='o')\n",
    "plt.title('Accuracy vs K')\n",
    "plt.xlabel('K')\n",
    "plt.ylabel('Accuracy')\n",
    "plt.show()\n"
   ]
  },
  {
   "cell_type": "markdown",
   "id": "12e979bf",
   "metadata": {},
   "source": [
    "### 25. Apply Feature Scaling before training a KNN model and compare results with unscaled data"
   ]
  },
  {
   "cell_type": "code",
   "execution_count": null,
   "id": "cf542731",
   "metadata": {},
   "outputs": [],
   "source": [
    "\n",
    "from sklearn.preprocessing import StandardScaler\n",
    "\n",
    "scaler = StandardScaler()\n",
    "X_scaled = scaler.fit_transform(X)\n",
    "X_train_s, X_test_s, y_train, y_test = train_test_split(X_scaled, y, random_state=42)\n",
    "model = KNeighborsClassifier()\n",
    "model.fit(X_train_s, y_train)\n",
    "print(\"Accuracy with scaling:\", model.score(X_test_s, y_test))\n"
   ]
  },
  {
   "cell_type": "markdown",
   "id": "1a25465f",
   "metadata": {},
   "source": [
    "### 26. Train a PCA model on synthetic data and print the explained variance ratio for each component"
   ]
  },
  {
   "cell_type": "code",
   "execution_count": null,
   "id": "febe3dac",
   "metadata": {},
   "outputs": [],
   "source": [
    "\n",
    "from sklearn.decomposition import PCA\n",
    "\n",
    "X, _ = make_regression(n_samples=100, n_features=5, noise=0.1)\n",
    "pca = PCA()\n",
    "pca.fit(X)\n",
    "print(\"Explained Variance Ratio:\", pca.explained_variance_ratio_)\n"
   ]
  },
  {
   "cell_type": "markdown",
   "id": "598e14b0",
   "metadata": {},
   "source": [
    "### 27. Apply PCA before training a KNN Classifier and compare accuracy with and without PCA"
   ]
  },
  {
   "cell_type": "code",
   "execution_count": null,
   "id": "e051882f",
   "metadata": {},
   "outputs": [],
   "source": [
    "\n",
    "pca = PCA(n_components=2)\n",
    "X_pca = pca.fit_transform(X_scaled)\n",
    "X_train_p, X_test_p, y_train, y_test = train_test_split(X_pca, y, random_state=42)\n",
    "model = KNeighborsClassifier()\n",
    "model.fit(X_train_p, y_train)\n",
    "print(\"Accuracy with PCA:\", model.score(X_test_p, y_test))\n"
   ]
  },
  {
   "cell_type": "markdown",
   "id": "b81fe775",
   "metadata": {},
   "source": [
    "### 28. Perform Hyperparameter Tuning on a KNN Classifier using GridSearchCV"
   ]
  },
  {
   "cell_type": "code",
   "execution_count": null,
   "id": "6f8c82fd",
   "metadata": {},
   "outputs": [],
   "source": [
    "\n",
    "params = {'n_neighbors': range(1, 11)}\n",
    "grid = GridSearchCV(KNeighborsClassifier(), params, cv=5)\n",
    "grid.fit(X_train, y_train)\n",
    "print(\"Best K:\", grid.best_params_)\n",
    "print(\"Best Score:\", grid.best_score_)\n"
   ]
  },
  {
   "cell_type": "markdown",
   "id": "dd15d947",
   "metadata": {},
   "source": [
    "### 29. Train a KNN Classifier and check the number of misclassified samples"
   ]
  },
  {
   "cell_type": "code",
   "execution_count": null,
   "id": "46c5e6d0",
   "metadata": {},
   "outputs": [],
   "source": [
    "\n",
    "y_pred = model.predict(X_test)\n",
    "misclassified = (y_pred != y_test).sum()\n",
    "print(\"Misclassified samples:\", misclassified)\n"
   ]
  },
  {
   "cell_type": "markdown",
   "id": "f6eba03c",
   "metadata": {},
   "source": [
    "### 30. Train a PCA model and visualize the cumulative explained variance"
   ]
  },
  {
   "cell_type": "code",
   "execution_count": null,
   "id": "f3619c1a",
   "metadata": {},
   "outputs": [],
   "source": [
    "\n",
    "pca = PCA().fit(X_scaled)\n",
    "plt.plot(np.cumsum(pca.explained_variance_ratio_))\n",
    "plt.xlabel('Number of Components')\n",
    "plt.ylabel('Cumulative Explained Variance')\n",
    "plt.title('Cumulative Explained Variance')\n",
    "plt.grid(True)\n",
    "plt.show()\n"
   ]
  },
  {
   "cell_type": "markdown",
   "id": "31bd3284",
   "metadata": {},
   "source": [
    "### 31. Train a KNN Classifier using different values of the weights parameter (uniform vs. distance) and compare accuracy"
   ]
  },
  {
   "cell_type": "code",
   "execution_count": null,
   "id": "bd0cd13a",
   "metadata": {},
   "outputs": [],
   "source": [
    "\n",
    "for weight in ['uniform', 'distance']:\n",
    "    model = KNeighborsClassifier(weights=weight)\n",
    "    model.fit(X_train, y_train)\n",
    "    print(f\"{weight} weighting accuracy:\", model.score(X_test, y_test))\n"
   ]
  },
  {
   "cell_type": "markdown",
   "id": "efee2305",
   "metadata": {},
   "source": [
    "### 32. Train a KNN Regressor and analyze the effect of different K values on performance"
   ]
  },
  {
   "cell_type": "code",
   "execution_count": null,
   "id": "9525d2b6",
   "metadata": {},
   "outputs": [],
   "source": [
    "\n",
    "for k in range(1, 11):\n",
    "    model = KNeighborsRegressor(n_neighbors=k)\n",
    "    model.fit(X_train, y_train)\n",
    "    y_pred = model.predict(X_test)\n",
    "    print(f\"K={k} MSE:\", mean_squared_error(y_test, y_pred))\n"
   ]
  },
  {
   "cell_type": "markdown",
   "id": "37871507",
   "metadata": {},
   "source": [
    "### 33. Implement KNN Imputation for handling missing values in a dataset"
   ]
  },
  {
   "cell_type": "code",
   "execution_count": null,
   "id": "394f9f85",
   "metadata": {},
   "outputs": [],
   "source": [
    "\n",
    "from sklearn.impute import KNNImputer\n",
    "\n",
    "df = pd.DataFrame(X)\n",
    "df.iloc[0, 0] = np.nan\n",
    "imputer = KNNImputer(n_neighbors=2)\n",
    "X_imputed = imputer.fit_transform(df)\n",
    "print(\"Imputed data:\", X_imputed[0])\n"
   ]
  },
  {
   "cell_type": "markdown",
   "id": "863dfc69",
   "metadata": {},
   "source": [
    "### 34. Train a PCA model and visualize the data projection onto the first two principal components"
   ]
  },
  {
   "cell_type": "code",
   "execution_count": null,
   "id": "beeb5cf5",
   "metadata": {},
   "outputs": [],
   "source": [
    "\n",
    "pca = PCA(n_components=2)\n",
    "X_proj = pca.fit_transform(X_scaled)\n",
    "plt.scatter(X_proj[:, 0], X_proj[:, 1], c=y, cmap='viridis')\n",
    "plt.title('Data Projection on First 2 PCA Components')\n",
    "plt.show()\n"
   ]
  },
  {
   "cell_type": "markdown",
   "id": "e4aa0a7b",
   "metadata": {},
   "source": [
    "### 35. Train a KNN Classifier using the KD Tree and Ball Tree algorithms and compare performance"
   ]
  },
  {
   "cell_type": "code",
   "execution_count": null,
   "id": "80e2acef",
   "metadata": {},
   "outputs": [],
   "source": [
    "\n",
    "model_kd = KNeighborsClassifier(algorithm='kd_tree')\n",
    "model_bt = KNeighborsClassifier(algorithm='ball_tree')\n",
    "model_kd.fit(X_train, y_train)\n",
    "model_bt.fit(X_train, y_train)\n",
    "print(\"KD Tree accuracy:\", model_kd.score(X_test, y_test))\n",
    "print(\"Ball Tree accuracy:\", model_bt.score(X_test, y_test))\n"
   ]
  },
  {
   "cell_type": "markdown",
   "id": "cd4527c2",
   "metadata": {},
   "source": [
    "### 36. Train a PCA model on a high-dimensional dataset and visualize the Scree plot"
   ]
  },
  {
   "cell_type": "code",
   "execution_count": null,
   "id": "707ddbb5",
   "metadata": {},
   "outputs": [],
   "source": [
    "\n",
    "pca = PCA().fit(X_scaled)\n",
    "plt.plot(range(1, len(pca.explained_variance_)+1), pca.explained_variance_, marker='o')\n",
    "plt.title('Scree Plot')\n",
    "plt.xlabel('Principal Component')\n",
    "plt.ylabel('Variance')\n",
    "plt.show()\n"
   ]
  },
  {
   "cell_type": "markdown",
   "id": "47fe8f7d",
   "metadata": {},
   "source": [
    "### 37. Train a KNN Classifier and evaluate performance using Precision, Recall, and F1-Score"
   ]
  },
  {
   "cell_type": "code",
   "execution_count": null,
   "id": "7a199d3f",
   "metadata": {},
   "outputs": [],
   "source": [
    "\n",
    "y_pred = model.predict(X_test)\n",
    "print(\"Precision:\", precision_score(y_test, y_pred, average='macro'))\n",
    "print(\"Recall:\", recall_score(y_test, y_pred, average='macro'))\n",
    "print(\"F1 Score:\", f1_score(y_test, y_pred, average='macro'))\n"
   ]
  },
  {
   "cell_type": "markdown",
   "id": "1e5f9235",
   "metadata": {},
   "source": [
    "### 38. Train a PCA model and analyze the effect of different numbers of components on accuracy"
   ]
  },
  {
   "cell_type": "code",
   "execution_count": null,
   "id": "829b07ad",
   "metadata": {},
   "outputs": [],
   "source": [
    "\n",
    "accuracies = []\n",
    "components = range(1, X_scaled.shape[1]+1)\n",
    "for c in components:\n",
    "    X_pca = PCA(n_components=c).fit_transform(X_scaled)\n",
    "    X_train_p, X_test_p, y_train, y_test = train_test_split(X_pca, y, random_state=42)\n",
    "    model = KNeighborsClassifier()\n",
    "    model.fit(X_train_p, y_train)\n",
    "    accuracies.append(model.score(X_test_p, y_test))\n",
    "plt.plot(components, accuracies, marker='o')\n",
    "plt.title('Accuracy vs PCA Components')\n",
    "plt.xlabel('Number of Components')\n",
    "plt.ylabel('Accuracy')\n",
    "plt.show()\n"
   ]
  },
  {
   "cell_type": "markdown",
   "id": "ab1b920c",
   "metadata": {},
   "source": [
    "### 39. Train a KNN Classifier with different leaf_size values and compare accuracy"
   ]
  },
  {
   "cell_type": "code",
   "execution_count": null,
   "id": "7db0a374",
   "metadata": {},
   "outputs": [],
   "source": [
    "\n",
    "for leaf_size in [10, 20, 30, 40, 50]:\n",
    "    model = KNeighborsClassifier(leaf_size=leaf_size)\n",
    "    model.fit(X_train, y_train)\n",
    "    print(f\"Leaf Size={leaf_size} Accuracy:\", model.score(X_test, y_test))\n"
   ]
  },
  {
   "cell_type": "markdown",
   "id": "8babe0e4",
   "metadata": {},
   "source": [
    "### 40. Train a PCA model and visualize how data points are transformed before and after PCA"
   ]
  },
  {
   "cell_type": "code",
   "execution_count": null,
   "id": "7e7ed561",
   "metadata": {},
   "outputs": [],
   "source": [
    "\n",
    "pca = PCA(n_components=2)\n",
    "X_transformed = pca.fit_transform(X_scaled)\n",
    "print(\"Before PCA shape:\", X_scaled.shape)\n",
    "print(\"After PCA shape:\", X_transformed.shape)\n"
   ]
  },
  {
   "cell_type": "markdown",
   "id": "2487e45c",
   "metadata": {},
   "source": [
    "### 41. Train a KNN Classifier on a real-world dataset (Wine dataset) and print classification report"
   ]
  },
  {
   "cell_type": "code",
   "execution_count": null,
   "id": "286b417b",
   "metadata": {},
   "outputs": [],
   "source": [
    "\n",
    "X, y = load_wine(return_X_y=True)\n",
    "X_train, X_test, y_train, y_test = train_test_split(X, y, random_state=42)\n",
    "model = KNeighborsClassifier()\n",
    "model.fit(X_train, y_train)\n",
    "y_pred = model.predict(X_test)\n",
    "print(classification_report(y_test, y_pred))\n"
   ]
  },
  {
   "cell_type": "markdown",
   "id": "b117e005",
   "metadata": {},
   "source": [
    "### 42. Train a KNN Regressor and analyze the effect of different distance metrics on prediction error"
   ]
  },
  {
   "cell_type": "code",
   "execution_count": null,
   "id": "152bf58e",
   "metadata": {},
   "outputs": [],
   "source": [
    "\n",
    "for metric in ['euclidean', 'manhattan']:\n",
    "    model = KNeighborsRegressor(metric=metric)\n",
    "    model.fit(X_train, y_train)\n",
    "    y_pred = model.predict(X_test)\n",
    "    print(f\"{metric} MSE:\", mean_squared_error(y_test, y_pred))\n"
   ]
  },
  {
   "cell_type": "markdown",
   "id": "ed20d8ed",
   "metadata": {},
   "source": [
    "### 43. Train a KNN Classifier and evaluate using ROC-AUC score"
   ]
  },
  {
   "cell_type": "code",
   "execution_count": null,
   "id": "216db434",
   "metadata": {},
   "outputs": [],
   "source": [
    "\n",
    "y_prob = model.predict_proba(X_test)\n",
    "print(\"ROC-AUC Score:\", roc_auc_score(y_test, y_prob, multi_class='ovr'))\n"
   ]
  },
  {
   "cell_type": "markdown",
   "id": "575782a8",
   "metadata": {},
   "source": [
    "### 44. Train a PCA model and visualize the variance captured by each principal component"
   ]
  },
  {
   "cell_type": "code",
   "execution_count": null,
   "id": "5fa00ef3",
   "metadata": {},
   "outputs": [],
   "source": [
    "\n",
    "pca = PCA()\n",
    "pca.fit(X_scaled)\n",
    "plt.bar(range(1, len(pca.explained_variance_ratio_)+1), pca.explained_variance_ratio_)\n",
    "plt.title('Variance Captured by Each Component')\n",
    "plt.xlabel('Principal Component')\n",
    "plt.ylabel('Variance Ratio')\n",
    "plt.show()\n"
   ]
  },
  {
   "cell_type": "markdown",
   "id": "9da07e0a",
   "metadata": {},
   "source": [
    "### 45. Train a KNN Classifier and perform feature selection before training"
   ]
  },
  {
   "cell_type": "code",
   "execution_count": null,
   "id": "b0886a8b",
   "metadata": {},
   "outputs": [],
   "source": [
    "\n",
    "from sklearn.feature_selection import SelectKBest, f_classif\n",
    "\n",
    "X_new = SelectKBest(score_func=f_classif, k=2).fit_transform(X, y)\n",
    "X_train, X_test, y_train, y_test = train_test_split(X_new, y, random_state=42)\n",
    "model = KNeighborsClassifier()\n",
    "model.fit(X_train, y_train)\n",
    "print(\"Accuracy after feature selection:\", model.score(X_test, y_test))\n"
   ]
  },
  {
   "cell_type": "markdown",
   "id": "de32253e",
   "metadata": {},
   "source": [
    "### 46. Train a PCA model and visualize the data reconstruction error after reducing dimensions"
   ]
  },
  {
   "cell_type": "code",
   "execution_count": null,
   "id": "16e2b5dc",
   "metadata": {},
   "outputs": [],
   "source": [
    "\n",
    "pca = PCA(n_components=2)\n",
    "X_pca = pca.fit_transform(X_scaled)\n",
    "X_reconstructed = pca.inverse_transform(X_pca)\n",
    "reconstruction_error = np.mean((X_scaled - X_reconstructed) ** 2)\n",
    "print(\"Reconstruction Error:\", reconstruction_error)\n"
   ]
  },
  {
   "cell_type": "markdown",
   "id": "5b2d68c2",
   "metadata": {},
   "source": [
    "### 47. Train a KNN Classifier and visualize the decision boundary"
   ]
  },
  {
   "cell_type": "code",
   "execution_count": null,
   "id": "e7598ee4",
   "metadata": {},
   "outputs": [],
   "source": [
    "\n",
    "from mlxtend.plotting import plot_decision_regions\n",
    "\n",
    "model = KNeighborsClassifier()\n",
    "model.fit(X_train[:, :2], y_train)\n",
    "plot_decision_regions(X_train[:, :2], y_train, clf=model, legend=2)\n",
    "plt.title('Decision Boundary')\n",
    "plt.show()\n"
   ]
  },
  {
   "cell_type": "markdown",
   "id": "69fec771",
   "metadata": {},
   "source": [
    "### 48. Train a PCA model and analyze the effect of different numbers of components on data variance"
   ]
  },
  {
   "cell_type": "code",
   "execution_count": null,
   "id": "e0751035",
   "metadata": {},
   "outputs": [],
   "source": [
    "\n",
    "pca = PCA().fit(X_scaled)\n",
    "plt.plot(np.cumsum(pca.explained_variance_ratio_))\n",
    "plt.title(\"Cumulative Explained Variance\")\n",
    "plt.xlabel(\"Number of Components\")\n",
    "plt.ylabel(\"Cumulative Variance\")\n",
    "plt.grid(True)\n",
    "plt.show()\n"
   ]
  }
 ],
 "metadata": {
  "kernelspec": {
   "display_name": "Python 3 (ipykernel)",
   "language": "python",
   "name": "python3"
  },
  "language_info": {
   "codemirror_mode": {
    "name": "ipython",
    "version": 3
   },
   "file_extension": ".py",
   "mimetype": "text/x-python",
   "name": "python",
   "nbconvert_exporter": "python",
   "pygments_lexer": "ipython3",
   "version": "3.12.4"
  }
 },
 "nbformat": 4,
 "nbformat_minor": 5
}
